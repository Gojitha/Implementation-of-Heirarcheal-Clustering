{
  "cells": [
    {
      "cell_type": "markdown",
      "metadata": {
        "id": "XFcBvJik1m8W"
      },
      "source": [
        "**Importings**"
      ]
    },
    {
      "cell_type": "code",
      "execution_count": 3,
      "metadata": {
        "id": "0qcaRkrPitow"
      },
      "outputs": [],
      "source": [
        "import math \n",
        "import numpy as np\n",
        "from scipy import spatial \n",
        "from scipy.spatial import distance\n",
        "from numpy.random import seed\n",
        "from numpy.random import randint\n",
        "seed(1)"
      ]
    },
    {
      "cell_type": "markdown",
      "metadata": {
        "id": "bmcm8sZN2JUo"
      },
      "source": [
        "**1. (i) Finding Distance in 1D list from a point P using Euclidean**"
      ]
    },
    {
      "cell_type": "code",
      "execution_count": 30,
      "metadata": {
        "id": "0X85Snl8kFQ-"
      },
      "outputs": [],
      "source": [
        "# Lets consider five samples and consider a point P\n",
        "S=[23,67,12,19,11]\n",
        "P = [30]"
      ]
    },
    {
      "cell_type": "code",
      "execution_count": 6,
      "metadata": {
        "colab": {
          "base_uri": "https://localhost:8080/"
        },
        "id": "B8l3EuJmi6d6",
        "outputId": "4869d7b6-5a59-45ed-e596-405f4c760c03"
      },
      "outputs": [
        {
          "name": "stdout",
          "output_type": "stream",
          "text": [
            "[[ 7. 37. 18. 11. 19.]]\n"
          ]
        }
      ],
      "source": [
        "euclidean=[]\n",
        "for i in S:\n",
        "  for j in P:\n",
        "    euclidean.append(distance.euclidean(i,j))\n",
        "Eucl=np.reshape(euclidean,(1,5))\n",
        "print(Eucl)"
      ]
    },
    {
      "cell_type": "markdown",
      "metadata": {
        "id": "SAnuxGhercVI"
      },
      "source": [
        "**(ii) Intra Points Distance calculation for  S=[23,67,12,19,11]**  **using** -\n",
        "1. Euclidean "
      ]
    },
    {
      "cell_type": "code",
      "execution_count": 31,
      "metadata": {
        "colab": {
          "base_uri": "https://localhost:8080/"
        },
        "id": "gS2gbT8HrKMg",
        "outputId": "0c30ff9c-8768-44c6-b6a0-2ae0c360313f"
      },
      "outputs": [
        {
          "name": "stdout",
          "output_type": "stream",
          "text": [
            "[[ 0. 44. 11.  4. 12.]\n",
            " [44.  0. 55. 48. 56.]\n",
            " [11. 55.  0.  7.  1.]\n",
            " [ 4. 48.  7.  0.  8.]\n",
            " [12. 56.  1.  8.  0.]]\n"
          ]
        }
      ],
      "source": [
        "euclidean=[]\n",
        "for i in S:\n",
        "  for j in S:\n",
        "    euclidean.append(distance.euclidean(i,j))\n",
        "Eucl=np.reshape(euclidean,(5,5))\n",
        "print(Eucl)\n"
      ]
    },
    {
      "cell_type": "markdown",
      "metadata": {
        "id": "rdhjG0yFpb3A"
      },
      "source": [
        "**Other Distance Metrics**"
      ]
    },
    {
      "cell_type": "markdown",
      "metadata": {
        "id": "uA44g0IeswlI"
      },
      "source": [
        "\n",
        "2.   Manhattan\n",
        "3.   Cosine Similarity Distance\n",
        "\n",
        "\n",
        "\n",
        "\n"
      ]
    },
    {
      "cell_type": "code",
      "execution_count": 32,
      "metadata": {
        "colab": {
          "base_uri": "https://localhost:8080/"
        },
        "id": "W5xrl9Nupiyn",
        "outputId": "a06bde9b-0d8b-43e0-98c1-6b552e70a82d"
      },
      "outputs": [
        {
          "name": "stdout",
          "output_type": "stream",
          "text": [
            "[[ 0 44 11  4 12]\n",
            " [44  0 55 48 56]\n",
            " [11 55  0  7  1]\n",
            " [ 4 48  7  0  8]\n",
            " [12 56  1  8  0]]\n"
          ]
        }
      ],
      "source": [
        "# Manhattan\n",
        "manhattan=[]\n",
        "for i in S:\n",
        "  for j in S:\n",
        "    manhattan.append(abs(i-j))\n",
        "Manh=np.reshape(manhattan,(5,5))\n",
        "print(Manh)"
      ]
    },
    {
      "cell_type": "markdown",
      "metadata": {
        "id": "Vq4ueVJlvXeW"
      },
      "source": [
        "Cosine Similarity Distance "
      ]
    },
    {
      "cell_type": "code",
      "execution_count": 33,
      "metadata": {
        "colab": {
          "base_uri": "https://localhost:8080/"
        },
        "id": "t8NPg0kmviOv",
        "outputId": "10c9afa4-c90f-4a99-bcca-f123fddd16f1"
      },
      "outputs": [
        {
          "name": "stdout",
          "output_type": "stream",
          "text": [
            "[[1. 1. 1. 1. 1.]\n",
            " [1. 1. 1. 1. 1.]\n",
            " [1. 1. 1. 1. 1.]\n",
            " [1. 1. 1. 1. 1.]\n",
            " [1. 1. 1. 1. 1.]]\n"
          ]
        }
      ],
      "source": [
        "cosine=[]\n",
        "for i in S:\n",
        "  for j in S:\n",
        "    cosine.append(1-spatial.distance.cosine(i,j))\n",
        "c=np.reshape(cosine,(5,5))\n",
        "print(c)"
      ]
    },
    {
      "cell_type": "markdown",
      "metadata": {
        "id": "Vzmp6PidwVh6"
      },
      "source": [
        "**(iii) Finding Euclidean Distance in 2D list from a point P1**"
      ]
    },
    {
      "cell_type": "code",
      "execution_count": 34,
      "metadata": {
        "id": "2qBCsLRRwUj0"
      },
      "outputs": [],
      "source": [
        "S1=[(23,47),(12,65),(11,87),(15,16),(32,50)]\n",
        "P1=[(12,30)]"
      ]
    },
    {
      "cell_type": "code",
      "execution_count": 35,
      "metadata": {
        "colab": {
          "base_uri": "https://localhost:8080/"
        },
        "id": "pbw1IHPyyL-F",
        "outputId": "13af63ff-2dee-4d2b-9d79-a96270dfade1"
      },
      "outputs": [
        {
          "name": "stdout",
          "output_type": "stream",
          "text": [
            "[[20.24845673]\n",
            " [35.        ]\n",
            " [57.00877125]\n",
            " [14.31782106]\n",
            " [28.28427125]]\n"
          ]
        }
      ],
      "source": [
        "euclidean=[]\n",
        "for i in S1:\n",
        "  for j in P1:\n",
        "    euclidean.append(distance.euclidean(i,j))\n",
        "Eucl=np.reshape(euclidean,(5,1))\n",
        "print(Eucl)"
      ]
    },
    {
      "cell_type": "markdown",
      "metadata": {
        "id": "T5D3GHmerh4V"
      },
      "source": [
        "**2. (i) Finding distance between two 1D arrays**\n",
        "\n",
        "\n",
        "\n",
        "\n"
      ]
    },
    {
      "cell_type": "code",
      "execution_count": 36,
      "metadata": {
        "id": "-swOeqwJwCmt"
      },
      "outputs": [],
      "source": [
        "S1=[23,67,12,19,11]\n",
        "S2=[101,150,280,90,75]"
      ]
    },
    {
      "cell_type": "code",
      "execution_count": 37,
      "metadata": {
        "colab": {
          "base_uri": "https://localhost:8080/"
        },
        "id": "l6_fJtC_sJ0L",
        "outputId": "80afcf46-ef1f-4d09-cae7-27d3df3b3bb5"
      },
      "outputs": [
        {
          "name": "stdout",
          "output_type": "stream",
          "text": [
            "[[ 78. 127. 257.  67.  52.]\n",
            " [ 34.  83. 213.  23.   8.]\n",
            " [ 89. 138. 268.  78.  63.]\n",
            " [ 82. 131. 261.  71.  56.]\n",
            " [ 90. 139. 269.  79.  64.]]\n"
          ]
        }
      ],
      "source": [
        "euclidean=[]\n",
        "for i in S1:\n",
        "  for j in S2:\n",
        "    euclidean.append(distance.euclidean(i,j))\n",
        "Eucl=np.reshape(euclidean,(5,5))\n",
        "print(Eucl)"
      ]
    },
    {
      "cell_type": "markdown",
      "metadata": {
        "id": "BdLwTT706WuO"
      },
      "source": [
        "**3. Finding the max and min elements from the Distance Matrix**"
      ]
    },
    {
      "cell_type": "code",
      "execution_count": 38,
      "metadata": {
        "colab": {
          "base_uri": "https://localhost:8080/"
        },
        "id": "opkAnVG9t1qF",
        "outputId": "fb87a3c9-0675-46a3-97fb-e8734d4dc391"
      },
      "outputs": [
        {
          "name": "stdout",
          "output_type": "stream",
          "text": [
            "Maximum Element from above matrix :- 269.0\n",
            "Tupple of arrays (array([4]), array([2]))\n",
            "(4, 2)\n"
          ]
        }
      ],
      "source": [
        "# Finding max element from the above matrix\n",
        "max_value=np.max(Eucl)\n",
        "print(\"Maximum Element from above matrix :-\",max_value)\n",
        "\n",
        "# Finding indices of the max element\n",
        "result=np.where(Eucl==np.max(Eucl))\n",
        "print('Tupple of arrays',result)\n",
        "ListOfIndices=list(zip(result[0],result[1]))\n",
        "for indices in ListOfIndices:\n",
        "  print(indices)\n"
      ]
    },
    {
      "cell_type": "markdown",
      "metadata": {
        "id": "9V-o5ubd7vM8"
      },
      "source": [
        "Initially all the indices are seperate clusters . In the above cell, based on maximum distance similarity we will be selecting the clusters. \n",
        " With the help of indices we will be able to further cluster them. For example in the above cell (4,2) is again\n",
        " treated as one cluster "
      ]
    },
    {
      "cell_type": "code",
      "execution_count": 39,
      "metadata": {
        "colab": {
          "base_uri": "https://localhost:8080/"
        },
        "id": "mWWDKfzXuKMA",
        "outputId": "25d58467-f90d-42c6-f260-170b24d52d25"
      },
      "outputs": [
        {
          "name": "stdout",
          "output_type": "stream",
          "text": [
            "Minimum Element from above matrix :- 8.0\n",
            "Tupple of arrays (array([1]), array([4]))\n",
            "(1, 4)\n"
          ]
        }
      ],
      "source": [
        "# Finding min element from the above matrix\n",
        "min_value=np.min(Eucl)\n",
        "print(\"Minimum Element from above matrix :-\",min_value)\n",
        "\n",
        "# Finding indices of the min element\n",
        "result=np.where(Eucl==np.min(Eucl))\n",
        "print('Tupple of arrays',result)\n",
        "ListOfIndices=list(zip(result[0],result[1]))\n",
        "for indices in ListOfIndices:\n",
        "  print(indices)"
      ]
    },
    {
      "cell_type": "markdown",
      "metadata": {
        "id": "bNy48wKA7_P1"
      },
      "source": [
        "Initially all the indices are seperate clusters . In the above cell, based on minimum distance similarity we will be selecting the clusters. \n",
        " With the help of indices we will be able to further cluster them. For example in the above cell (1,4) is again\n",
        "treated as one cluster."
      ]
    },
    {
      "cell_type": "markdown",
      "metadata": {
        "id": "iRRsBPxS4Ygc"
      },
      "source": [
        "**2. (ii) Finding Distance between two 2D arrays**"
      ]
    },
    {
      "cell_type": "code",
      "execution_count": 45,
      "metadata": {
        "id": "XgYt0bZp4qyc"
      },
      "outputs": [],
      "source": [
        "S3=[(55,90),(81,42),(17,82),(36,75),(43,88)]\n",
        "S4=[(77,98),(49,70),(25,58),(29,117),(34,21)]"
      ]
    },
    {
      "cell_type": "code",
      "execution_count": 46,
      "metadata": {
        "colab": {
          "base_uri": "https://localhost:8080/"
        },
        "id": "FTgPicMb5Ux1",
        "outputId": "7b83d322-803c-4a25-cbfa-1e2cb50d2291"
      },
      "outputs": [
        {
          "name": "stdout",
          "output_type": "stream",
          "text": [
            "[[23.40939982 20.88061302 43.8634244  37.48332963 72.12489168]\n",
            " [56.14267539 42.52058325 58.24087911 91.26335519 51.4781507 ]\n",
            " [62.09669879 34.17601498 25.29822128 37.         63.3245608 ]\n",
            " [47.01063709 13.92838828 20.24845673 42.57933771 54.03702434]\n",
            " [35.44009029 18.97366596 34.98571137 32.20248438 67.60177512]]\n"
          ]
        }
      ],
      "source": [
        "euclidean=[]\n",
        "for i in S3:\n",
        "  for j in S4:\n",
        "    euclidean.append(distance.euclidean(i,j))\n",
        "Eucl=np.reshape(euclidean,(5,5))\n",
        "print(Eucl)"
      ]
    },
    {
      "cell_type": "markdown",
      "metadata": {
        "id": "C4UX1L5K7A1O"
      },
      "source": [
        "**3. Finding the max and min elements from the Distance Matrix**"
      ]
    },
    {
      "cell_type": "code",
      "execution_count": 47,
      "metadata": {
        "colab": {
          "base_uri": "https://localhost:8080/"
        },
        "id": "YDBuqjri5pX0",
        "outputId": "65b3c2d7-6e13-4b92-cf6b-194a1db448c0"
      },
      "outputs": [
        {
          "name": "stdout",
          "output_type": "stream",
          "text": [
            "Maximum Element from above matrix :- 91.2633551870629\n",
            "Tupple of arrays (array([1]), array([3]))\n",
            "(1, 3)\n"
          ]
        }
      ],
      "source": [
        "# Finding max element from the above matrix\n",
        "max_value=np.max(Eucl)\n",
        "print(\"Maximum Element from above matrix :-\",max_value)\n",
        "\n",
        "# Finding indices of the max element\n",
        "result=np.where(Eucl==np.max(Eucl))\n",
        "print('Tupple of arrays',result)\n",
        "ListOfIndices=list(zip(result[0],result[1]))\n",
        "for indices in ListOfIndices:\n",
        "  print(indices)"
      ]
    },
    {
      "cell_type": "code",
      "execution_count": 48,
      "metadata": {
        "colab": {
          "base_uri": "https://localhost:8080/"
        },
        "id": "wwzvBfUr5zzk",
        "outputId": "aa24673e-0fe4-425e-f959-36c174a87a2e"
      },
      "outputs": [
        {
          "name": "stdout",
          "output_type": "stream",
          "text": [
            "Minimum Element from above matrix :- 13.92838827718412\n",
            "Tupple of arrays (array([3]), array([1]))\n",
            "(3, 1)\n"
          ]
        }
      ],
      "source": [
        "# Finding min element from the above matrix\n",
        "min_value=np.min(Eucl)\n",
        "print(\"Minimum Element from above matrix :-\",min_value)\n",
        "\n",
        "# Finding indices of the min element\n",
        "result=np.where(Eucl==np.min(Eucl))\n",
        "print('Tupple of arrays',result)\n",
        "ListOfIndices=list(zip(result[0],result[1]))\n",
        "for indices in ListOfIndices:\n",
        "  print(indices)"
      ]
    },
    {
      "cell_type": "markdown",
      "metadata": {
        "id": "IS854of0A6pB"
      },
      "source": [
        "**2. (iii) Finding Distance between two arrays with 100 elements**"
      ]
    },
    {
      "cell_type": "code",
      "execution_count": 40,
      "metadata": {
        "id": "f0WQniQBBL1K"
      },
      "outputs": [],
      "source": [
        "A1 = []\n",
        "A2 = []\n",
        "A1 = randint(200, 300, 100)\n",
        "A2 = randint(500, 600, 100)"
      ]
    },
    {
      "cell_type": "code",
      "execution_count": 41,
      "metadata": {
        "colab": {
          "base_uri": "https://localhost:8080/"
        },
        "id": "3GNdXzHUBy_A",
        "outputId": "5b1fb964-051e-4a7c-c491-85f1ed2ff0c1"
      },
      "outputs": [
        {
          "name": "stdout",
          "output_type": "stream",
          "text": [
            "[237 212 272 209 275 205 279 264 216 201 276 271 206 225 250 220 218 284\n",
            " 211 228 229 214 250 268 287 287 294 296 286 213 209 207 263 261 222 257\n",
            " 201 200 260 281 208 288 213 247 272 230 271 203 270 221 249 257 203 268\n",
            " 224 243 276 226 252 280 241 282 215 264 268 225 298 287 207 226 225 222\n",
            " 209 267 223 227 237 257 283 238 208 232 234 210 223 215 287 225 271 292\n",
            " 274 262 246 232 288 223 255 265 277 203]\n",
            "[500 577 506 552 585 570 502 576 591 521 575 507 577 572 575 576 543 520\n",
            " 530 536 507 545 568 557 582 596 513 510 523 581 507 524 574 592 520 532\n",
            " 512 565 594 560 524 582 597 502 592 598 510 554 596 582 586 570 566 571\n",
            " 548 554 515 505 517 542 520 548 522 513 597 553 584 510 596 555 561 556\n",
            " 589 521 596 583 525 514 513 584 543 506 577 556 559 515 524 509 566 571\n",
            " 553 569 536 521 540 577 591 549 547 577]\n"
          ]
        }
      ],
      "source": [
        "print(A1)\n",
        "print(A2)"
      ]
    },
    {
      "cell_type": "code",
      "execution_count": 42,
      "metadata": {
        "colab": {
          "base_uri": "https://localhost:8080/"
        },
        "id": "uG9E3m6LB4iT",
        "outputId": "407101af-0236-485a-8b40-8a172dd79795"
      },
      "outputs": [
        {
          "name": "stdout",
          "output_type": "stream",
          "text": [
            "[[263. 340. 269. ... 312. 310. 340.]\n",
            " [288. 365. 294. ... 337. 335. 365.]\n",
            " [228. 305. 234. ... 277. 275. 305.]\n",
            " ...\n",
            " [235. 312. 241. ... 284. 282. 312.]\n",
            " [223. 300. 229. ... 272. 270. 300.]\n",
            " [297. 374. 303. ... 346. 344. 374.]]\n"
          ]
        }
      ],
      "source": [
        "euclidean1 = []\n",
        "for i in A1:\n",
        "  for j in A2:\n",
        "    euclidean1.append(distance.euclidean(i,j))\n",
        "Eucl1 = np.reshape(euclidean1,(100,100))\n",
        "print(Eucl1)"
      ]
    },
    {
      "cell_type": "markdown",
      "metadata": {
        "id": "hinl68Xm7Hj1"
      },
      "source": [
        "**3. Finding the max and min elements from the Distance Matrix**"
      ]
    },
    {
      "cell_type": "code",
      "execution_count": 43,
      "metadata": {
        "colab": {
          "base_uri": "https://localhost:8080/"
        },
        "id": "PX71INcjCixR",
        "outputId": "f31386ef-ef2c-487d-e0d6-6d5be0cda739"
      },
      "outputs": [
        {
          "name": "stdout",
          "output_type": "stream",
          "text": [
            "Maximum Element from above matrix :- 398.0\n",
            "Tupple of arrays (array([37]), array([45]))\n",
            "(37, 45)\n"
          ]
        }
      ],
      "source": [
        "# Finding max element from the above matrix\n",
        "max_value1 = np.max(Eucl1)\n",
        "print(\"Maximum Element from above matrix :-\", max_value1)\n",
        "\n",
        "# Finding indices of the max element\n",
        "result1 = np.where(Eucl1 == np.max(Eucl1))\n",
        "print('Tupple of arrays', result1)\n",
        "ListOfIndices1 = list(zip(result1[0],result1[1]))\n",
        "for indices in ListOfIndices1:\n",
        "  print(indices)"
      ]
    },
    {
      "cell_type": "markdown",
      "metadata": {
        "id": "UaGYC2S0GZ8o"
      },
      "source": [
        "Initially all the indices are seperate clusters. In the above cell, based on maximum distance similarity we will be selecting the clusters. \n",
        "With the help of indices we will be able to further cluster them. For example in the above cell, (54, 11) is again treated as one cluster "
      ]
    },
    {
      "cell_type": "code",
      "execution_count": 44,
      "metadata": {
        "colab": {
          "base_uri": "https://localhost:8080/"
        },
        "id": "KdbUNkwgDcpQ",
        "outputId": "364e1801-e18d-48e0-fa57-ce3b79cee97d"
      },
      "outputs": [
        {
          "name": "stdout",
          "output_type": "stream",
          "text": [
            "Minimum Element from above matrix :- 202.0\n",
            "Tupple of arrays (array([66]), array([0]))\n",
            "(66, 0)\n"
          ]
        }
      ],
      "source": [
        "# Finding min element from the above matrix\n",
        "min_value1 = np.min(Eucl1)\n",
        "print(\"Minimum Element from above matrix :-\", min_value1)\n",
        "\n",
        "# Finding indices of the max element\n",
        "result2 = np.where(Eucl1 == np.min(Eucl1))\n",
        "print('Tupple of arrays', result2)\n",
        "ListOfIndices2 = list(zip(result2[0],result2[1]))\n",
        "for indices in ListOfIndices2:\n",
        "  print(indices)"
      ]
    },
    {
      "cell_type": "markdown",
      "metadata": {
        "id": "UlcBjQbBGKfZ"
      },
      "source": [
        "Initially all the indices are seperate clusters . In the above cell, based on minimum distance similarity we will be selecting the clusters. \n",
        " With the help of indices we will be able to further cluster them. For example in the above cell, (28, 0) is again\n",
        "treated as one cluster."
      ]
    }
  ],
  "metadata": {
    "colab": {
      "collapsed_sections": [],
      "name": "CSE3120 - Digital Assignment 2 - Group 2.ipynb",
      "provenance": []
    },
    "kernelspec": {
      "display_name": "Python 3",
      "name": "python3"
    },
    "language_info": {
      "name": "python"
    }
  },
  "nbformat": 4,
  "nbformat_minor": 0
}
